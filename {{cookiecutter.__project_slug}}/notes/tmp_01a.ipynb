{
 "cells": [
  {
   "cell_type": "code",
   "execution_count": 17,
   "metadata": {},
   "outputs": [],
   "source": [
    "import numpy as np\n",
    "import pandas as pd\n",
    "\n",
    "a_seed: int|None = None\n",
    "rng = np.random.default_rng(seed=a_seed)  # random number generator"
   ]
  },
  {
   "cell_type": "code",
   "execution_count": 25,
   "metadata": {},
   "outputs": [],
   "source": [
    "def sim_norm(rng, size:int = 5) -> pd.DataFrame:\n",
    "    col1 = rng.poisson(lam=5, size=size)\n",
    "    col2 = rng.random(size=5)\n",
    "    col3 = rng.choice(a=[\"a\", \"b\", \"c\", \"d\", \"e\"], size=5, replace=True)\n",
    "    col4 = rng.choice(a=[\"blue\", \"red\", \"yellow\"], size=5, replace=True)\n",
    "    col5 = rng.normal(loc=0.0, scale=1.0, size=5)\n",
    "    df = pd.DataFrame(\n",
    "        {\n",
    "            \"col1\": col1,\n",
    "            \"col2\": col2,\n",
    "            \"col3\": col3,\n",
    "            \"col4\": col4,\n",
    "            \"col5\": col5\n",
    "        }\n",
    "    )\n",
    "    return df\n",
    "    "
   ]
  },
  {
   "cell_type": "code",
   "execution_count": 27,
   "metadata": {},
   "outputs": [
    {
     "data": {
      "text/html": [
       "<div>\n",
       "<style scoped>\n",
       "    .dataframe tbody tr th:only-of-type {\n",
       "        vertical-align: middle;\n",
       "    }\n",
       "\n",
       "    .dataframe tbody tr th {\n",
       "        vertical-align: top;\n",
       "    }\n",
       "\n",
       "    .dataframe thead th {\n",
       "        text-align: right;\n",
       "    }\n",
       "</style>\n",
       "<table border=\"1\" class=\"dataframe\">\n",
       "  <thead>\n",
       "    <tr style=\"text-align: right;\">\n",
       "      <th></th>\n",
       "      <th>col1</th>\n",
       "      <th>col2</th>\n",
       "      <th>col3</th>\n",
       "      <th>col4</th>\n",
       "      <th>col5</th>\n",
       "    </tr>\n",
       "  </thead>\n",
       "  <tbody>\n",
       "    <tr>\n",
       "      <th>0</th>\n",
       "      <td>4</td>\n",
       "      <td>0.264006</td>\n",
       "      <td>c</td>\n",
       "      <td>blue</td>\n",
       "      <td>0.144654</td>\n",
       "    </tr>\n",
       "    <tr>\n",
       "      <th>1</th>\n",
       "      <td>4</td>\n",
       "      <td>0.799304</td>\n",
       "      <td>c</td>\n",
       "      <td>blue</td>\n",
       "      <td>-0.070293</td>\n",
       "    </tr>\n",
       "    <tr>\n",
       "      <th>2</th>\n",
       "      <td>10</td>\n",
       "      <td>0.785070</td>\n",
       "      <td>d</td>\n",
       "      <td>yellow</td>\n",
       "      <td>-0.292508</td>\n",
       "    </tr>\n",
       "    <tr>\n",
       "      <th>3</th>\n",
       "      <td>1</td>\n",
       "      <td>0.975324</td>\n",
       "      <td>d</td>\n",
       "      <td>yellow</td>\n",
       "      <td>-1.002062</td>\n",
       "    </tr>\n",
       "    <tr>\n",
       "      <th>4</th>\n",
       "      <td>2</td>\n",
       "      <td>0.962285</td>\n",
       "      <td>a</td>\n",
       "      <td>red</td>\n",
       "      <td>-0.553460</td>\n",
       "    </tr>\n",
       "  </tbody>\n",
       "</table>\n",
       "</div>"
      ],
      "text/plain": [
       "   col1      col2 col3    col4      col5\n",
       "0     4  0.264006    c    blue  0.144654\n",
       "1     4  0.799304    c    blue -0.070293\n",
       "2    10  0.785070    d  yellow -0.292508\n",
       "3     1  0.975324    d  yellow -1.002062\n",
       "4     2  0.962285    a     red -0.553460"
      ]
     },
     "execution_count": 27,
     "metadata": {},
     "output_type": "execute_result"
    }
   ],
   "source": [
    "df1 = sim_norm(rng)\n",
    "df1"
   ]
  },
  {
   "cell_type": "code",
   "execution_count": 20,
   "metadata": {},
   "outputs": [
    {
     "data": {
      "text/plain": [
       "'yellow'"
      ]
     },
     "execution_count": 20,
     "metadata": {},
     "output_type": "execute_result"
    }
   ],
   "source": [
    "df1.iloc[0][\"col4\"]"
   ]
  },
  {
   "cell_type": "code",
   "execution_count": 21,
   "metadata": {},
   "outputs": [],
   "source": [
    "def sim_mvn(rng, size: int = 5) -> pd.DataFrame:\n",
    "    y = rng.normal(loc=10, scale=2.0, size=size)\n",
    "    m = np.array([1, 2, 4])  # vector of mean\n",
    "    a = np.array([0.75, 0.85, 0.95])  # vector of correlations\n",
    "    # create a symmetric matrix size * size\n",
    "    # matrix created using multiplication of inverse of a vector is always\n",
    "    # symmetric and positive definite\n",
    "    c = np.dot(a[:, None], a[None, :])\n",
    "    x = rng.multivariate_normal(mean=m, cov=c, size=size)\n",
    "    # bind the normal (y) and multivariate normal (x) together\n",
    "    d = np.concatenate((y[:, None], x), axis=1)\n",
    "    df = pd.DataFrame(data=d, columns=[\"y\", \"x1\", \"x2\", \"x3\"])\n",
    "    return df"
   ]
  },
  {
   "cell_type": "code",
   "execution_count": 22,
   "metadata": {},
   "outputs": [
    {
     "data": {
      "text/html": [
       "<div>\n",
       "<style scoped>\n",
       "    .dataframe tbody tr th:only-of-type {\n",
       "        vertical-align: middle;\n",
       "    }\n",
       "\n",
       "    .dataframe tbody tr th {\n",
       "        vertical-align: top;\n",
       "    }\n",
       "\n",
       "    .dataframe thead th {\n",
       "        text-align: right;\n",
       "    }\n",
       "</style>\n",
       "<table border=\"1\" class=\"dataframe\">\n",
       "  <thead>\n",
       "    <tr style=\"text-align: right;\">\n",
       "      <th></th>\n",
       "      <th>y</th>\n",
       "      <th>x1</th>\n",
       "      <th>x2</th>\n",
       "      <th>x3</th>\n",
       "    </tr>\n",
       "  </thead>\n",
       "  <tbody>\n",
       "    <tr>\n",
       "      <th>0</th>\n",
       "      <td>11.030851</td>\n",
       "      <td>0.908081</td>\n",
       "      <td>1.895825</td>\n",
       "      <td>3.883569</td>\n",
       "    </tr>\n",
       "    <tr>\n",
       "      <th>1</th>\n",
       "      <td>10.553550</td>\n",
       "      <td>-1.004513</td>\n",
       "      <td>-0.271781</td>\n",
       "      <td>1.460951</td>\n",
       "    </tr>\n",
       "    <tr>\n",
       "      <th>2</th>\n",
       "      <td>8.036172</td>\n",
       "      <td>0.552324</td>\n",
       "      <td>1.492634</td>\n",
       "      <td>3.432943</td>\n",
       "    </tr>\n",
       "    <tr>\n",
       "      <th>3</th>\n",
       "      <td>6.896706</td>\n",
       "      <td>2.228606</td>\n",
       "      <td>3.392420</td>\n",
       "      <td>5.556234</td>\n",
       "    </tr>\n",
       "    <tr>\n",
       "      <th>4</th>\n",
       "      <td>5.658134</td>\n",
       "      <td>1.248517</td>\n",
       "      <td>2.281653</td>\n",
       "      <td>4.314788</td>\n",
       "    </tr>\n",
       "  </tbody>\n",
       "</table>\n",
       "</div>"
      ],
      "text/plain": [
       "           y        x1        x2        x3\n",
       "0  11.030851  0.908081  1.895825  3.883569\n",
       "1  10.553550 -1.004513 -0.271781  1.460951\n",
       "2   8.036172  0.552324  1.492634  3.432943\n",
       "3   6.896706  2.228606  3.392420  5.556234\n",
       "4   5.658134  1.248517  2.281653  4.314788"
      ]
     },
     "execution_count": 22,
     "metadata": {},
     "output_type": "execute_result"
    }
   ],
   "source": [
    "df2 = sim_mvn(rng)\n",
    "df2"
   ]
  },
  {
   "cell_type": "code",
   "execution_count": 23,
   "metadata": {},
   "outputs": [],
   "source": [
    "def get_fn(name: str, *suffix, ext: str = \".xlsx\", sep: str = \"_\"):\n",
    "    fn = sep.join([name, *suffix]) + ext\n",
    "    return fn"
   ]
  },
  {
   "cell_type": "code",
   "execution_count": 24,
   "metadata": {},
   "outputs": [
    {
     "data": {
      "text/plain": [
       "'base_lg_ytd.tmp'"
      ]
     },
     "execution_count": 24,
     "metadata": {},
     "output_type": "execute_result"
    }
   ],
   "source": [
    "out = get_fn(\"base\", \"lg\", \"ytd\", ext=\".tmp\")\n",
    "# out = get_fn(\"base\", \"lg\", \"ytd\")\n",
    "# out = get_fn(\"base\", \"lg\")\n",
    "# out = get_fn(\"base\", ext = \".tmp\")\n",
    "# out = get_fn(\"base\")\n",
    "out"
   ]
  }
 ],
 "metadata": {
  "kernelspec": {
   "display_name": "flpprjrletl-T--F1t2j-py3.10",
   "language": "python",
   "name": "python3"
  },
  "language_info": {
   "codemirror_mode": {
    "name": "ipython",
    "version": 3
   },
   "file_extension": ".py",
   "mimetype": "text/x-python",
   "name": "python",
   "nbconvert_exporter": "python",
   "pygments_lexer": "ipython3",
   "version": "3.10.6"
  }
 },
 "nbformat": 4,
 "nbformat_minor": 2
}
